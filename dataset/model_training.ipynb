{
 "cells": [
  {
   "cell_type": "code",
   "execution_count": 16,
   "metadata": {},
   "outputs": [
    {
     "name": "stdout",
     "output_type": "stream",
     "text": [
      "(275895, 698) (59120, 698) (59121, 698)\n"
     ]
    }
   ],
   "source": [
    "import pandas as pd\n",
    "import sklearn\n",
    "from sklearn.model_selection import train_test_split\n",
    "from sklearn.preprocessing import StandardScaler\n",
    "import numpy as np\n",
    "\n",
    "data = pd.read_csv('network_trafiic_dataset.csv')\n",
    "\n",
    "\n",
    "\n",
    "data = data.drop(['No.','Info'], axis=1)\n",
    "\n",
    "\n",
    "\n",
    "data = pd.get_dummies(data, columns=['Source','Destination','Protocol'])\n",
    "\n",
    "scaler = StandardScaler()\n",
    "data[['Time', 'Length']] = scaler.fit_transform(data[['Time', 'Length']])\n",
    "\n",
    "data['label'] = np.where(data.index > len(data) * 0.8,1,0)\n",
    "\n",
    "x = data.drop('label', axis=1)\n",
    "y = data['label']\n",
    "\n",
    "x_train, x_temp, y_train, y_temp = train_test_split(x,y, test_size=0.3, random_state=42)\n",
    "x_val, x_test, y_val, y_test = train_test_split(x_temp, y_temp, test_size=0.5, random_state=42)\n",
    "\n",
    "print(x_train.shape, x_val.shape, x_test.shape)\n"
   ]
  },
  {
   "cell_type": "code",
   "execution_count": 19,
   "metadata": {},
   "outputs": [
    {
     "name": "stdout",
     "output_type": "stream",
     "text": [
      "Accuracy:  1.0\n",
      "Classification Report:\n",
      "               precision    recall  f1-score   support\n",
      "\n",
      "           0       1.00      1.00      1.00     47189\n",
      "           1       1.00      1.00      1.00     11932\n",
      "\n",
      "    accuracy                           1.00     59121\n",
      "   macro avg       1.00      1.00      1.00     59121\n",
      "weighted avg       1.00      1.00      1.00     59121\n",
      "\n"
     ]
    }
   ],
   "source": [
    "from sklearn.ensemble import RandomForestClassifier\n",
    "from sklearn.metrics import classification_report, accuracy_score\n",
    "\n",
    "rf_model = RandomForestClassifier(n_estimators=100, random_state=42)\n",
    "rf_model.fit(x_train, y_train)\n",
    "\n",
    "y_pred = rf_model.predict(x_test)\n",
    "\n",
    "print(\"Accuracy: \", accuracy_score(y_test, y_pred))\n",
    "print(\"Classification Report:\\n\",classification_report(y_test, y_pred))"
   ]
  }
 ],
 "metadata": {
  "kernelspec": {
   "display_name": "Python 3",
   "language": "python",
   "name": "python3"
  },
  "language_info": {
   "codemirror_mode": {
    "name": "ipython",
    "version": 3
   },
   "file_extension": ".py",
   "mimetype": "text/x-python",
   "name": "python",
   "nbconvert_exporter": "python",
   "pygments_lexer": "ipython3",
   "version": "3.12.3"
  }
 },
 "nbformat": 4,
 "nbformat_minor": 2
}
